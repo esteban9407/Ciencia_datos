{
 "cells": [
  {
   "cell_type": "code",
   "execution_count": 1,
   "metadata": {},
   "outputs": [
    {
     "name": "stdout",
     "output_type": "stream",
     "text": [
      "es mayor de edad\n"
     ]
    }
   ],
   "source": [
    "edadAlumno = 18\n",
    "if edadAlumno >=18:\n",
    "    print(\"es mayor de edad\")\n",
    "else:\n",
    "    print(\"es menor de edad\")\n",
    "    "
   ]
  },
  {
   "cell_type": "code",
   "execution_count": 3,
   "metadata": {},
   "outputs": [
    {
     "name": "stdout",
     "output_type": "stream",
     "text": [
      "es mayor de edad y es mujer\n"
     ]
    }
   ],
   "source": [
    "generoAlumno = \"f\"\n",
    "edadAlumno = 18\n",
    "if edadAlumno >=18:\n",
    "    if generoAlumno ==\"f\":\n",
    "        print(\"es mayor de edad y es mujer\")\n",
    "    else:\n",
    "        print(\"Es mayor de edad\")\n",
    "else: \n",
    "    print(\"Es mennor de edad\")\n",
    "    \n",
    "    "
   ]
  },
  {
   "cell_type": "code",
   "execution_count": 5,
   "metadata": {},
   "outputs": [
    {
     "name": "stdout",
     "output_type": "stream",
     "text": [
      "Es menor de edad\n"
     ]
    }
   ],
   "source": [
    "generoAlumno = \"m\"\n",
    "edadAlumno = 15\n",
    "if edadAlumno >=18:\n",
    "    if generoAlumno ==\"f\":\n",
    "        print(\"es mayor de edad y es mujer\")\n",
    "    else:\n",
    "        print(\"Es mayor de edad\")\n",
    "else: \n",
    "    print(\"Es menor de edad\")"
   ]
  },
  {
   "cell_type": "code",
   "execution_count": 8,
   "metadata": {},
   "outputs": [
    {
     "name": "stdout",
     "output_type": "stream",
     "text": [
      "es mayor de edad y es mujer\n"
     ]
    }
   ],
   "source": [
    "generoAlumno = \"f\"\n",
    "edadAlumno = 18\n",
    "if edadAlumno >=18 and generoAlumno ==\"f\":\n",
    "    print(\"es mayor de edad y es mujer\")\n",
    "else: \n",
    "    print(\"Es mennor de edad\")"
   ]
  },
  {
   "cell_type": "code",
   "execution_count": 10,
   "metadata": {},
   "outputs": [
    {
     "name": "stdout",
     "output_type": "stream",
     "text": [
      "es mayor de edad y es mujer y su edad es:18\n"
     ]
    }
   ],
   "source": [
    "generoAlumno = \"f\"\n",
    "edadAlumno = 18\n",
    "if edadAlumno >=18 or generoAlumno ==\"f\":\n",
    "    print(\"es mayor de edad y es mujer y su edad es:\" + str(edadAlumno))\n",
    "else: \n",
    "    print(\"Es mennor de edad\")"
   ]
  },
  {
   "cell_type": "code",
   "execution_count": 13,
   "metadata": {},
   "outputs": [
    {
     "name": "stdout",
     "output_type": "stream",
     "text": [
      "es mayor de edad y es mujer y su edad es:18\n"
     ]
    }
   ],
   "source": [
    "generoAlumno = \"m\"\n",
    "edadAlumno = 18\n",
    "municipio = \"Medellin\"\n",
    "if edadAlumno >=18 or generoAlumno ==\"m\" and municipio ==\"Medellin\":\n",
    "    print(\"es mayor de edad y es hombre  y su edad es:\" + str(edadAlumno))\n",
    "else: \n",
    "    print(\"Es mennor de edad\")"
   ]
  },
  {
   "cell_type": "code",
   "execution_count": 14,
   "metadata": {},
   "outputs": [
    {
     "name": "stdout",
     "output_type": "stream",
     "text": [
      "2\n"
     ]
    }
   ],
   "source": [
    "numeroTexto = \"2\"\n",
    "print(int(numeroTexto))"
   ]
  },
  {
   "cell_type": "code",
   "execution_count": 15,
   "metadata": {},
   "outputs": [
    {
     "name": "stdout",
     "output_type": "stream",
     "text": [
      "2\n"
     ]
    },
    {
     "data": {
      "text/plain": [
       "int"
      ]
     },
     "execution_count": 15,
     "metadata": {},
     "output_type": "execute_result"
    }
   ],
   "source": [
    "numeroTexto = \"2\"\n",
    "print(int(numeroTexto))\n",
    "type(int(numeroTexto))\n"
   ]
  },
  {
   "cell_type": "markdown",
   "metadata": {},
   "source": [
    "# Sentencia while\n"
   ]
  },
  {
   "cell_type": "code",
   "execution_count": 23,
   "metadata": {},
   "outputs": [
    {
     "name": "stdout",
     "output_type": "stream",
     "text": [
      "0\n",
      "1\n",
      "2\n",
      "3\n",
      "4\n",
      "5\n",
      "6\n",
      "7\n",
      "8\n",
      "9\n",
      "10\n"
     ]
    }
   ],
   "source": [
    "contador = 0\n",
    "while contador <=10:\n",
    "        print(contador)\n",
    "        contador += 1"
   ]
  },
  {
   "cell_type": "markdown",
   "metadata": {},
   "source": [
    "# Lista, sentencia for"
   ]
  },
  {
   "cell_type": "code",
   "execution_count": 31,
   "metadata": {},
   "outputs": [
    {
     "name": "stdout",
     "output_type": "stream",
     "text": [
      "1\n",
      "2\n",
      "3\n",
      "4\n",
      "5\n",
      "6\n",
      "7\n",
      "8\n",
      "9\n",
      "10\n",
      "11\n"
     ]
    }
   ],
   "source": [
    "listaNumeros = {1,2,3,4,5,6,7,8,9,10,11}\n",
    "for numero in listaNumeros:\n",
    "    print(numero)"
   ]
  },
  {
   "cell_type": "code",
   "execution_count": 27,
   "metadata": {},
   "outputs": [
    {
     "name": "stdout",
     "output_type": "stream",
     "text": [
      "El numero es par y es el:2\n",
      "El numero es par y es el:4\n",
      "El numero es par y es el:6\n"
     ]
    }
   ],
   "source": [
    "for numero in listaNumeros:\n",
    "    if numero % 2 ==0:\n",
    "        print(\"El numero es par y es el:\" + str(numero))\n",
    "    \n",
    "        "
   ]
  },
  {
   "cell_type": "code",
   "execution_count": 33,
   "metadata": {},
   "outputs": [
    {
     "name": "stdout",
     "output_type": "stream",
     "text": [
      "El numero es impar y es el:1\n",
      "El numero es par y es el:2\n",
      "El numero es impar y es el:3\n",
      "El numero es par y es el:4\n",
      "El numero es impar y es el:5\n",
      "El numero es par y es el:6\n",
      "El numero es impar y es el:7\n",
      "El numero es par y es el:8\n",
      "El numero es impar y es el:9\n",
      "El numero es par y es el:10\n",
      "El numero es impar y es el:11\n"
     ]
    }
   ],
   "source": [
    "for numero in listaNumeros:\n",
    "    if numero % 2 ==0:\n",
    "        print(\"El numero es par y es el:\" + str(numero))\n",
    "    elif numero % 2!=0:\n",
    "        print (\"El numero es impar y es el:\" + str(numero))\n",
    "    elif numero % 5 ==0:\n",
    "        print(\"El numero es divisble por 5 y el numero es:\" + str(numero))"
   ]
  },
  {
   "cell_type": "markdown",
   "metadata": {},
   "source": [
    "#   Omitir "
   ]
  },
  {
   "cell_type": "code",
   "execution_count": 38,
   "metadata": {},
   "outputs": [
    {
     "name": "stdout",
     "output_type": "stream",
     "text": [
      "1\n",
      "2\n",
      "4\n",
      "5\n",
      "7\n",
      "8\n",
      "10\n",
      "11\n"
     ]
    }
   ],
   "source": [
    "for numero in listaNumeros:\n",
    "    if numero % 3 == 0:\n",
    "        continue\n",
    "    else:\n",
    "        print(numero)"
   ]
  },
  {
   "cell_type": "markdown",
   "metadata": {},
   "source": [
    "# Termina Secuencia"
   ]
  },
  {
   "cell_type": "code",
   "execution_count": 39,
   "metadata": {},
   "outputs": [
    {
     "name": "stdout",
     "output_type": "stream",
     "text": [
      "1\n",
      "2\n"
     ]
    }
   ],
   "source": [
    "for numero in listaNumeros:\n",
    "    if numero % 3 == 0:\n",
    "          break \n",
    "    else:\n",
    "        print(numero)"
   ]
  },
  {
   "cell_type": "markdown",
   "metadata": {},
   "source": [
    "# Funciones"
   ]
  },
  {
   "cell_type": "code",
   "execution_count": null,
   "metadata": {
    "collapsed": true
   },
   "outputs": [],
   "source": []
  }
 ],
 "metadata": {
  "kernelspec": {
   "display_name": "Python 3",
   "language": "python",
   "name": "python3"
  },
  "language_info": {
   "codemirror_mode": {
    "name": "ipython",
    "version": 3
   },
   "file_extension": ".py",
   "mimetype": "text/x-python",
   "name": "python",
   "nbconvert_exporter": "python",
   "pygments_lexer": "ipython3",
   "version": "3.6.1"
  }
 },
 "nbformat": 4,
 "nbformat_minor": 2
}
